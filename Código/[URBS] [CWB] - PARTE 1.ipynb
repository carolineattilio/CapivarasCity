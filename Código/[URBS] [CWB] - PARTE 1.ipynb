{
 "cells": [
  {
   "cell_type": "markdown",
   "metadata": {},
   "source": [
    "<img src =https://i.pinimg.com/474x/4f/72/d3/4f72d331372ed6a69e2b2fa3dce89645.jpg width=300>\n",
    "\n",
    "\n",
    "\n",
    "### Análise de Dados - URBS Curitiba\n",
    "\n",
    "### Autora: Caroline Attilio de Lima\n"
   ]
  },
  {
   "cell_type": "markdown",
   "metadata": {},
   "source": [
    "# Importando bibliotecas e base de dados"
   ]
  },
  {
   "cell_type": "code",
   "execution_count": 41,
   "metadata": {},
   "outputs": [],
   "source": [
    "import pandas as pd \n",
    "import numpy as np \n",
    "import json as json"
   ]
  },
  {
   "cell_type": "markdown",
   "metadata": {},
   "source": [
    "# PARTE 1 - MEDIUM"
   ]
  },
  {
   "cell_type": "code",
   "execution_count": 42,
   "metadata": {},
   "outputs": [],
   "source": [
    "# IMPORTANDO AS BASES DE DADOS\n",
    "\n",
    "dfLinhas = pd.read_json ('2020_11_12_linhas.json')\n",
    "dfPontos = pd.read_json ('2020_11_12_pontosLinha.json')"
   ]
  },
  {
   "cell_type": "code",
   "execution_count": 43,
   "metadata": {},
   "outputs": [],
   "source": [
    "def formatacao_df(df):\n",
    "    df['LAT'] = df['LAT'].str.replace(',', '.')\n",
    "    df['LON'] = df['LON'].str.replace(',', '.')\n",
    "    df['LAT'] = df['LAT'].astype(float)\n",
    "    df['LON'] = df['LON'].astype(float)\n",
    "    df['LAT'] = round(df['LAT'],6)\n",
    "    df['LON'] = round(df['LON'],6)\n",
    "    return df"
   ]
  },
  {
   "cell_type": "code",
   "execution_count": 44,
   "metadata": {},
   "outputs": [
    {
     "data": {
      "text/html": [
       "<div>\n",
       "<style scoped>\n",
       "    .dataframe tbody tr th:only-of-type {\n",
       "        vertical-align: middle;\n",
       "    }\n",
       "\n",
       "    .dataframe tbody tr th {\n",
       "        vertical-align: top;\n",
       "    }\n",
       "\n",
       "    .dataframe thead th {\n",
       "        text-align: right;\n",
       "    }\n",
       "</style>\n",
       "<table border=\"1\" class=\"dataframe\">\n",
       "  <thead>\n",
       "    <tr style=\"text-align: right;\">\n",
       "      <th></th>\n",
       "      <th>COD</th>\n",
       "      <th>NOME</th>\n",
       "      <th>SOMENTE_CARTAO</th>\n",
       "      <th>CATEGORIA_SERVICO</th>\n",
       "      <th>NOME_COR</th>\n",
       "    </tr>\n",
       "  </thead>\n",
       "  <tbody>\n",
       "    <tr>\n",
       "      <th>0</th>\n",
       "      <td>464</td>\n",
       "      <td>A. MUNHOZ / J. BOTÂNICO</td>\n",
       "      <td>S</td>\n",
       "      <td>CONVENCIONAL</td>\n",
       "      <td>AMARELA</td>\n",
       "    </tr>\n",
       "    <tr>\n",
       "      <th>1</th>\n",
       "      <td>226</td>\n",
       "      <td>ABAETÉ</td>\n",
       "      <td>N</td>\n",
       "      <td>ALIMENTADOR</td>\n",
       "      <td>LARANJA</td>\n",
       "    </tr>\n",
       "    <tr>\n",
       "      <th>2</th>\n",
       "      <td>182</td>\n",
       "      <td>ABRANCHES</td>\n",
       "      <td>N</td>\n",
       "      <td>TRONCAL</td>\n",
       "      <td>AMARELA</td>\n",
       "    </tr>\n",
       "    <tr>\n",
       "      <th>3</th>\n",
       "      <td>332</td>\n",
       "      <td>ACRÓPOLE</td>\n",
       "      <td>N</td>\n",
       "      <td>ALIMENTADOR</td>\n",
       "      <td>LARANJA</td>\n",
       "    </tr>\n",
       "    <tr>\n",
       "      <th>4</th>\n",
       "      <td>334</td>\n",
       "      <td>AGRÍCOLA</td>\n",
       "      <td>F</td>\n",
       "      <td>ALIMENTADOR</td>\n",
       "      <td>LARANJA</td>\n",
       "    </tr>\n",
       "  </tbody>\n",
       "</table>\n",
       "</div>"
      ],
      "text/plain": [
       "   COD                     NOME SOMENTE_CARTAO CATEGORIA_SERVICO NOME_COR\n",
       "0  464  A. MUNHOZ / J. BOTÂNICO              S      CONVENCIONAL  AMARELA\n",
       "1  226                   ABAETÉ              N       ALIMENTADOR  LARANJA\n",
       "2  182                ABRANCHES              N           TRONCAL  AMARELA\n",
       "3  332                 ACRÓPOLE              N       ALIMENTADOR  LARANJA\n",
       "4  334                 AGRÍCOLA              F       ALIMENTADOR  LARANJA"
      ]
     },
     "execution_count": 44,
     "metadata": {},
     "output_type": "execute_result"
    }
   ],
   "source": [
    "dfLinhas.head()"
   ]
  },
  {
   "cell_type": "code",
   "execution_count": 45,
   "metadata": {},
   "outputs": [
    {
     "data": {
      "text/html": [
       "<div>\n",
       "<style scoped>\n",
       "    .dataframe tbody tr th:only-of-type {\n",
       "        vertical-align: middle;\n",
       "    }\n",
       "\n",
       "    .dataframe tbody tr th {\n",
       "        vertical-align: top;\n",
       "    }\n",
       "\n",
       "    .dataframe thead th {\n",
       "        text-align: right;\n",
       "    }\n",
       "</style>\n",
       "<table border=\"1\" class=\"dataframe\">\n",
       "  <thead>\n",
       "    <tr style=\"text-align: right;\">\n",
       "      <th></th>\n",
       "      <th>NOME</th>\n",
       "      <th>NUM</th>\n",
       "      <th>LAT</th>\n",
       "      <th>LON</th>\n",
       "      <th>SEQ</th>\n",
       "      <th>GRUPO</th>\n",
       "      <th>SENTIDO</th>\n",
       "      <th>TIPO</th>\n",
       "      <th>ITINERARY_ID</th>\n",
       "      <th>COD</th>\n",
       "    </tr>\n",
       "  </thead>\n",
       "  <tbody>\n",
       "    <tr>\n",
       "      <th>0</th>\n",
       "      <td>Av. Manoel Ribas, 531 - Mercês</td>\n",
       "      <td>110037</td>\n",
       "      <td>-25,422482678274</td>\n",
       "      <td>-49,284327553297</td>\n",
       "      <td>39</td>\n",
       "      <td></td>\n",
       "      <td>Horário</td>\n",
       "      <td>Novo mobiliário</td>\n",
       "      <td>481</td>\n",
       "      <td>010</td>\n",
       "    </tr>\n",
       "    <tr>\n",
       "      <th>1</th>\n",
       "      <td>Av. Visc. de Guarapuava, 1692 - Centro</td>\n",
       "      <td>140204</td>\n",
       "      <td>-25,432681513162</td>\n",
       "      <td>-49,258593202776</td>\n",
       "      <td>11</td>\n",
       "      <td></td>\n",
       "      <td>Horário</td>\n",
       "      <td>Novo mobiliário</td>\n",
       "      <td>481</td>\n",
       "      <td>010</td>\n",
       "    </tr>\n",
       "    <tr>\n",
       "      <th>2</th>\n",
       "      <td>R. Cap. Souza Franco, 661 - Bigorrilho</td>\n",
       "      <td>180042</td>\n",
       "      <td>-25,432206677422</td>\n",
       "      <td>-49,292185860119</td>\n",
       "      <td>34</td>\n",
       "      <td></td>\n",
       "      <td>Horário</td>\n",
       "      <td>Novo mobiliário</td>\n",
       "      <td>481</td>\n",
       "      <td>010</td>\n",
       "    </tr>\n",
       "    <tr>\n",
       "      <th>3</th>\n",
       "      <td>Av. do Batel, 1614 - Batel</td>\n",
       "      <td>180067</td>\n",
       "      <td>-25,442672993214</td>\n",
       "      <td>-49,288137735075</td>\n",
       "      <td>21</td>\n",
       "      <td></td>\n",
       "      <td>Anti-horário</td>\n",
       "      <td>Novo mobiliário</td>\n",
       "      <td>482</td>\n",
       "      <td>011</td>\n",
       "    </tr>\n",
       "    <tr>\n",
       "      <th>4</th>\n",
       "      <td>Viaduto Colorado, 1159 - Rebouças</td>\n",
       "      <td>140216</td>\n",
       "      <td>-25,436607355344</td>\n",
       "      <td>-49,260179058856</td>\n",
       "      <td>38</td>\n",
       "      <td></td>\n",
       "      <td>Anti-horário</td>\n",
       "      <td>Novo mobiliário</td>\n",
       "      <td>482</td>\n",
       "      <td>011</td>\n",
       "    </tr>\n",
       "  </tbody>\n",
       "</table>\n",
       "</div>"
      ],
      "text/plain": [
       "                                     NOME     NUM               LAT  \\\n",
       "0          Av. Manoel Ribas, 531 - Mercês  110037  -25,422482678274   \n",
       "1  Av. Visc. de Guarapuava, 1692 - Centro  140204  -25,432681513162   \n",
       "2  R. Cap. Souza Franco, 661 - Bigorrilho  180042  -25,432206677422   \n",
       "3              Av. do Batel, 1614 - Batel  180067  -25,442672993214   \n",
       "4       Viaduto Colorado, 1159 - Rebouças  140216  -25,436607355344   \n",
       "\n",
       "                LON  SEQ GRUPO       SENTIDO             TIPO  ITINERARY_ID  \\\n",
       "0  -49,284327553297   39             Horário  Novo mobiliário           481   \n",
       "1  -49,258593202776   11             Horário  Novo mobiliário           481   \n",
       "2  -49,292185860119   34             Horário  Novo mobiliário           481   \n",
       "3  -49,288137735075   21        Anti-horário  Novo mobiliário           482   \n",
       "4  -49,260179058856   38        Anti-horário  Novo mobiliário           482   \n",
       "\n",
       "   COD  \n",
       "0  010  \n",
       "1  010  \n",
       "2  010  \n",
       "3  011  \n",
       "4  011  "
      ]
     },
     "execution_count": 45,
     "metadata": {},
     "output_type": "execute_result"
    }
   ],
   "source": [
    "dfPontos.head()"
   ]
  },
  {
   "cell_type": "markdown",
   "metadata": {},
   "source": [
    "# Pontos de Ônibus"
   ]
  },
  {
   "cell_type": "code",
   "execution_count": 46,
   "metadata": {},
   "outputs": [],
   "source": [
    "# PONTOS ÚNICOS\n",
    "\n",
    "dfPontosUnicos = dfPontos.drop_duplicates(subset='NUM', keep='first')"
   ]
  },
  {
   "cell_type": "code",
   "execution_count": 47,
   "metadata": {},
   "outputs": [
    {
     "data": {
      "text/html": [
       "<div>\n",
       "<style scoped>\n",
       "    .dataframe tbody tr th:only-of-type {\n",
       "        vertical-align: middle;\n",
       "    }\n",
       "\n",
       "    .dataframe tbody tr th {\n",
       "        vertical-align: top;\n",
       "    }\n",
       "\n",
       "    .dataframe thead th {\n",
       "        text-align: right;\n",
       "    }\n",
       "</style>\n",
       "<table border=\"1\" class=\"dataframe\">\n",
       "  <thead>\n",
       "    <tr style=\"text-align: right;\">\n",
       "      <th></th>\n",
       "      <th>NOME</th>\n",
       "      <th>NUM</th>\n",
       "      <th>LAT</th>\n",
       "      <th>LON</th>\n",
       "      <th>SEQ</th>\n",
       "      <th>GRUPO</th>\n",
       "      <th>SENTIDO</th>\n",
       "      <th>TIPO</th>\n",
       "      <th>ITINERARY_ID</th>\n",
       "      <th>COD</th>\n",
       "    </tr>\n",
       "  </thead>\n",
       "  <tbody>\n",
       "    <tr>\n",
       "      <th>0</th>\n",
       "      <td>Av. Manoel Ribas, 531 - Mercês</td>\n",
       "      <td>110037</td>\n",
       "      <td>-25,422482678274</td>\n",
       "      <td>-49,284327553297</td>\n",
       "      <td>39</td>\n",
       "      <td></td>\n",
       "      <td>Horário</td>\n",
       "      <td>Novo mobiliário</td>\n",
       "      <td>481</td>\n",
       "      <td>010</td>\n",
       "    </tr>\n",
       "    <tr>\n",
       "      <th>1</th>\n",
       "      <td>Av. Visc. de Guarapuava, 1692 - Centro</td>\n",
       "      <td>140204</td>\n",
       "      <td>-25,432681513162</td>\n",
       "      <td>-49,258593202776</td>\n",
       "      <td>11</td>\n",
       "      <td></td>\n",
       "      <td>Horário</td>\n",
       "      <td>Novo mobiliário</td>\n",
       "      <td>481</td>\n",
       "      <td>010</td>\n",
       "    </tr>\n",
       "    <tr>\n",
       "      <th>2</th>\n",
       "      <td>R. Cap. Souza Franco, 661 - Bigorrilho</td>\n",
       "      <td>180042</td>\n",
       "      <td>-25,432206677422</td>\n",
       "      <td>-49,292185860119</td>\n",
       "      <td>34</td>\n",
       "      <td></td>\n",
       "      <td>Horário</td>\n",
       "      <td>Novo mobiliário</td>\n",
       "      <td>481</td>\n",
       "      <td>010</td>\n",
       "    </tr>\n",
       "    <tr>\n",
       "      <th>3</th>\n",
       "      <td>Av. do Batel, 1614 - Batel</td>\n",
       "      <td>180067</td>\n",
       "      <td>-25,442672993214</td>\n",
       "      <td>-49,288137735075</td>\n",
       "      <td>21</td>\n",
       "      <td></td>\n",
       "      <td>Anti-horário</td>\n",
       "      <td>Novo mobiliário</td>\n",
       "      <td>482</td>\n",
       "      <td>011</td>\n",
       "    </tr>\n",
       "    <tr>\n",
       "      <th>4</th>\n",
       "      <td>Viaduto Colorado, 1159 - Rebouças</td>\n",
       "      <td>140216</td>\n",
       "      <td>-25,436607355344</td>\n",
       "      <td>-49,260179058856</td>\n",
       "      <td>38</td>\n",
       "      <td></td>\n",
       "      <td>Anti-horário</td>\n",
       "      <td>Novo mobiliário</td>\n",
       "      <td>482</td>\n",
       "      <td>011</td>\n",
       "    </tr>\n",
       "  </tbody>\n",
       "</table>\n",
       "</div>"
      ],
      "text/plain": [
       "                                     NOME     NUM               LAT  \\\n",
       "0          Av. Manoel Ribas, 531 - Mercês  110037  -25,422482678274   \n",
       "1  Av. Visc. de Guarapuava, 1692 - Centro  140204  -25,432681513162   \n",
       "2  R. Cap. Souza Franco, 661 - Bigorrilho  180042  -25,432206677422   \n",
       "3              Av. do Batel, 1614 - Batel  180067  -25,442672993214   \n",
       "4       Viaduto Colorado, 1159 - Rebouças  140216  -25,436607355344   \n",
       "\n",
       "                LON  SEQ GRUPO       SENTIDO             TIPO  ITINERARY_ID  \\\n",
       "0  -49,284327553297   39             Horário  Novo mobiliário           481   \n",
       "1  -49,258593202776   11             Horário  Novo mobiliário           481   \n",
       "2  -49,292185860119   34             Horário  Novo mobiliário           481   \n",
       "3  -49,288137735075   21        Anti-horário  Novo mobiliário           482   \n",
       "4  -49,260179058856   38        Anti-horário  Novo mobiliário           482   \n",
       "\n",
       "   COD  \n",
       "0  010  \n",
       "1  010  \n",
       "2  010  \n",
       "3  011  \n",
       "4  011  "
      ]
     },
     "execution_count": 47,
     "metadata": {},
     "output_type": "execute_result"
    }
   ],
   "source": [
    "dfPontosUnicos.head()"
   ]
  },
  {
   "cell_type": "code",
   "execution_count": 48,
   "metadata": {},
   "outputs": [
    {
     "name": "stdout",
     "output_type": "stream",
     "text": [
      "Ponto de ônibus do tipo Novo mobiliário\n",
      "Ponto de ônibus do tipo Estação tubo\n",
      "Ponto de ônibus do tipo Plataforma\n",
      "Ponto de ônibus do tipo Chapéu chinês\n",
      "Ponto de ônibus do tipo Domus\n",
      "Ponto de ônibus do tipo Placa em cano\n",
      "Ponto de ônibus do tipo Placa em poste\n",
      "Ponto de ônibus do tipo Sem demarcação\n",
      "Ponto de ônibus do tipo Especial Madrugueiro\n",
      "Ponto de ônibus do tipo Fora do padrão\n",
      "Ponto de ônibus do tipo Concreto\n",
      "Ponto de ônibus do tipo Linha Turismo\n",
      "Ponto de ônibus do tipo Outros\n",
      "Ponto de ônibus do tipo \n"
     ]
    }
   ],
   "source": [
    "# TIPOS DE PONTOS DE ÔNIBUS\n",
    "\n",
    "for i in dfPontosUnicos['TIPO'].unique():\n",
    "    print('Ponto de ônibus do tipo',i)"
   ]
  },
  {
   "cell_type": "code",
   "execution_count": 49,
   "metadata": {},
   "outputs": [
    {
     "data": {
      "text/plain": [
       "Chapéu chinês           2184\n",
       "Novo mobiliário         1996\n",
       "Domus                    762\n",
       "Sem demarcação           587\n",
       "Placa em cano            447\n",
       "Plataforma               313\n",
       "Placa em poste           293\n",
       "Estação tubo             288\n",
       "Especial Madrugueiro     201\n",
       "Linha Turismo             23\n",
       "Fora do padrão            13\n",
       "Concreto                   9\n",
       "                           2\n",
       "Outros                     1\n",
       "Name: TIPO, dtype: int64"
      ]
     },
     "execution_count": 49,
     "metadata": {},
     "output_type": "execute_result"
    }
   ],
   "source": [
    "# QUANTIDADE DE CADA TIPO DE PONTO DE ÔNIBUS\n",
    "\n",
    "dfPontosUnicos.TIPO.value_counts()"
   ]
  },
  {
   "cell_type": "code",
   "execution_count": 50,
   "metadata": {},
   "outputs": [
    {
     "name": "stdout",
     "output_type": "stream",
     "text": [
      "Número de tipos de pontos de ônibus da cidade de Curitiba:  14\n",
      "Número de pontos de ônibus da cidade de Curitiba:  7119\n"
     ]
    }
   ],
   "source": [
    "# NÚMERO DE PONTOS de ÔNIBUS NA CIDADE DE CURITIBA\n",
    "\n",
    "print('Número de tipos de pontos de ônibus da cidade de Curitiba: ', dfPontosUnicos['TIPO'].nunique())\n",
    "print('Número de pontos de ônibus da cidade de Curitiba: ', dfPontosUnicos['NUM'].nunique())"
   ]
  },
  {
   "cell_type": "markdown",
   "metadata": {},
   "source": [
    "# Linhas"
   ]
  },
  {
   "cell_type": "code",
   "execution_count": 51,
   "metadata": {},
   "outputs": [
    {
     "data": {
      "text/plain": [
       "307"
      ]
     },
     "execution_count": 51,
     "metadata": {},
     "output_type": "execute_result"
    }
   ],
   "source": [
    "dfLinhas['CATEGORIA_SERVICO'].count()"
   ]
  },
  {
   "cell_type": "code",
   "execution_count": 52,
   "metadata": {},
   "outputs": [
    {
     "name": "stdout",
     "output_type": "stream",
     "text": [
      "Categoria da linha CONVENCIONAL\n",
      "Categoria da linha ALIMENTADOR\n",
      "Categoria da linha TRONCAL\n",
      "Categoria da linha LINHA DIRETA\n",
      "Categoria da linha EXPRESSO\n",
      "Categoria da linha INTERBAIRROS\n",
      "Categoria da linha CIRCULAR CENTRO\n",
      "Categoria da linha LIGEIRÃO\n",
      "Categoria da linha MADRUGUEIRO\n",
      "Categoria da linha JARDINEIRA\n"
     ]
    }
   ],
   "source": [
    "# CATEGORIAS DAS LINHA DE ÔNIBUS\n",
    "\n",
    "for i in dfLinhas['CATEGORIA_SERVICO'].unique():\n",
    "    print('Categoria da linha',i)"
   ]
  },
  {
   "cell_type": "code",
   "execution_count": 53,
   "metadata": {},
   "outputs": [
    {
     "data": {
      "text/plain": [
       "ALIMENTADOR        144\n",
       "CONVENCIONAL        73\n",
       "LINHA DIRETA        28\n",
       "MADRUGUEIRO         19\n",
       "TRONCAL             17\n",
       "EXPRESSO            11\n",
       "INTERBAIRROS         9\n",
       "LIGEIRÃO             3\n",
       "CIRCULAR CENTRO      2\n",
       "JARDINEIRA           1\n",
       "Name: CATEGORIA_SERVICO, dtype: int64"
      ]
     },
     "execution_count": 53,
     "metadata": {},
     "output_type": "execute_result"
    }
   ],
   "source": [
    "# QUANTIDADE DE CADA TIPO DE LINHA DE ÔNIBUS\n",
    "\n",
    "dfLinhas.CATEGORIA_SERVICO.value_counts()"
   ]
  },
  {
   "cell_type": "code",
   "execution_count": 54,
   "metadata": {},
   "outputs": [
    {
     "name": "stdout",
     "output_type": "stream",
     "text": [
      "Número de tipos de linhas de ônibus da cidade de Curitiba:  10\n",
      "Número de linhas de ônibus da cidade de Curitiba:  307\n"
     ]
    }
   ],
   "source": [
    "# NÚMERO DE LINHAS DE ÔNIBUS NA CIDADE DE CURITIBA\n",
    "\n",
    "print('Número de tipos de linhas de ônibus da cidade de Curitiba: ', dfLinhas['CATEGORIA_SERVICO'].nunique())\n",
    "print('Número de linhas de ônibus da cidade de Curitiba: ', dfLinhas['CATEGORIA_SERVICO'].count())"
   ]
  },
  {
   "cell_type": "code",
   "execution_count": 55,
   "metadata": {},
   "outputs": [
    {
     "name": "stdout",
     "output_type": "stream",
     "text": [
      "Número de linhas de ônibus da cidade de Curitiba que só aceitam cartões:  116\n",
      "Número de linhas de ônibus da cidade de Curitiba que só aceitam cartões em %:  38.0\n"
     ]
    }
   ],
   "source": [
    "# NÚMERO DE LINHAS DE ÔNIBUS NA CIDADE DE CURITIBA QUE ACEITAM APENAS CARTÃO\n",
    "\n",
    "print('Número de linhas de ônibus da cidade de Curitiba que só aceitam cartões: ', dfLinhas['SOMENTE_CARTAO'][dfLinhas['SOMENTE_CARTAO']=='S'].count())\n",
    "print('Número de linhas de ônibus da cidade de Curitiba que só aceitam cartões em %: ', (round((dfLinhas['SOMENTE_CARTAO'][dfLinhas['SOMENTE_CARTAO']=='S'].count()/dfLinhas['SOMENTE_CARTAO'].count()),2)*100))\n"
   ]
  },
  {
   "cell_type": "markdown",
   "metadata": {},
   "source": [
    "# Tratamento do dados"
   ]
  },
  {
   "cell_type": "code",
   "execution_count": 56,
   "metadata": {
    "scrolled": true
   },
   "outputs": [
    {
     "name": "stderr",
     "output_type": "stream",
     "text": [
      "<ipython-input-43-1a37ac58ca08>:2: SettingWithCopyWarning: \n",
      "A value is trying to be set on a copy of a slice from a DataFrame.\n",
      "Try using .loc[row_indexer,col_indexer] = value instead\n",
      "\n",
      "See the caveats in the documentation: https://pandas.pydata.org/pandas-docs/stable/user_guide/indexing.html#returning-a-view-versus-a-copy\n",
      "  df['LAT'] = df['LAT'].str.replace(',', '.')\n",
      "<ipython-input-43-1a37ac58ca08>:3: SettingWithCopyWarning: \n",
      "A value is trying to be set on a copy of a slice from a DataFrame.\n",
      "Try using .loc[row_indexer,col_indexer] = value instead\n",
      "\n",
      "See the caveats in the documentation: https://pandas.pydata.org/pandas-docs/stable/user_guide/indexing.html#returning-a-view-versus-a-copy\n",
      "  df['LON'] = df['LON'].str.replace(',', '.')\n",
      "<ipython-input-43-1a37ac58ca08>:4: SettingWithCopyWarning: \n",
      "A value is trying to be set on a copy of a slice from a DataFrame.\n",
      "Try using .loc[row_indexer,col_indexer] = value instead\n",
      "\n",
      "See the caveats in the documentation: https://pandas.pydata.org/pandas-docs/stable/user_guide/indexing.html#returning-a-view-versus-a-copy\n",
      "  df['LAT'] = df['LAT'].astype(float)\n",
      "<ipython-input-43-1a37ac58ca08>:5: SettingWithCopyWarning: \n",
      "A value is trying to be set on a copy of a slice from a DataFrame.\n",
      "Try using .loc[row_indexer,col_indexer] = value instead\n",
      "\n",
      "See the caveats in the documentation: https://pandas.pydata.org/pandas-docs/stable/user_guide/indexing.html#returning-a-view-versus-a-copy\n",
      "  df['LON'] = df['LON'].astype(float)\n",
      "<ipython-input-43-1a37ac58ca08>:6: SettingWithCopyWarning: \n",
      "A value is trying to be set on a copy of a slice from a DataFrame.\n",
      "Try using .loc[row_indexer,col_indexer] = value instead\n",
      "\n",
      "See the caveats in the documentation: https://pandas.pydata.org/pandas-docs/stable/user_guide/indexing.html#returning-a-view-versus-a-copy\n",
      "  df['LAT'] = round(df['LAT'],6)\n",
      "<ipython-input-43-1a37ac58ca08>:7: SettingWithCopyWarning: \n",
      "A value is trying to be set on a copy of a slice from a DataFrame.\n",
      "Try using .loc[row_indexer,col_indexer] = value instead\n",
      "\n",
      "See the caveats in the documentation: https://pandas.pydata.org/pandas-docs/stable/user_guide/indexing.html#returning-a-view-versus-a-copy\n",
      "  df['LON'] = round(df['LON'],6)\n"
     ]
    }
   ],
   "source": [
    "dfPontosUnicos = formatacao_df(dfPontosUnicos)"
   ]
  },
  {
   "cell_type": "code",
   "execution_count": 57,
   "metadata": {},
   "outputs": [
    {
     "data": {
      "text/html": [
       "<div>\n",
       "<style scoped>\n",
       "    .dataframe tbody tr th:only-of-type {\n",
       "        vertical-align: middle;\n",
       "    }\n",
       "\n",
       "    .dataframe tbody tr th {\n",
       "        vertical-align: top;\n",
       "    }\n",
       "\n",
       "    .dataframe thead th {\n",
       "        text-align: right;\n",
       "    }\n",
       "</style>\n",
       "<table border=\"1\" class=\"dataframe\">\n",
       "  <thead>\n",
       "    <tr style=\"text-align: right;\">\n",
       "      <th></th>\n",
       "      <th>NOME</th>\n",
       "      <th>NUM</th>\n",
       "      <th>LAT</th>\n",
       "      <th>LON</th>\n",
       "      <th>SEQ</th>\n",
       "      <th>GRUPO</th>\n",
       "      <th>SENTIDO</th>\n",
       "      <th>TIPO</th>\n",
       "      <th>ITINERARY_ID</th>\n",
       "      <th>COD</th>\n",
       "    </tr>\n",
       "  </thead>\n",
       "  <tbody>\n",
       "    <tr>\n",
       "      <th>0</th>\n",
       "      <td>Av. Manoel Ribas, 531 - Mercês</td>\n",
       "      <td>110037</td>\n",
       "      <td>-25.422483</td>\n",
       "      <td>-49.284328</td>\n",
       "      <td>39</td>\n",
       "      <td></td>\n",
       "      <td>Horário</td>\n",
       "      <td>Novo mobiliário</td>\n",
       "      <td>481</td>\n",
       "      <td>010</td>\n",
       "    </tr>\n",
       "    <tr>\n",
       "      <th>1</th>\n",
       "      <td>Av. Visc. de Guarapuava, 1692 - Centro</td>\n",
       "      <td>140204</td>\n",
       "      <td>-25.432682</td>\n",
       "      <td>-49.258593</td>\n",
       "      <td>11</td>\n",
       "      <td></td>\n",
       "      <td>Horário</td>\n",
       "      <td>Novo mobiliário</td>\n",
       "      <td>481</td>\n",
       "      <td>010</td>\n",
       "    </tr>\n",
       "    <tr>\n",
       "      <th>2</th>\n",
       "      <td>R. Cap. Souza Franco, 661 - Bigorrilho</td>\n",
       "      <td>180042</td>\n",
       "      <td>-25.432207</td>\n",
       "      <td>-49.292186</td>\n",
       "      <td>34</td>\n",
       "      <td></td>\n",
       "      <td>Horário</td>\n",
       "      <td>Novo mobiliário</td>\n",
       "      <td>481</td>\n",
       "      <td>010</td>\n",
       "    </tr>\n",
       "    <tr>\n",
       "      <th>3</th>\n",
       "      <td>Av. do Batel, 1614 - Batel</td>\n",
       "      <td>180067</td>\n",
       "      <td>-25.442673</td>\n",
       "      <td>-49.288138</td>\n",
       "      <td>21</td>\n",
       "      <td></td>\n",
       "      <td>Anti-horário</td>\n",
       "      <td>Novo mobiliário</td>\n",
       "      <td>482</td>\n",
       "      <td>011</td>\n",
       "    </tr>\n",
       "    <tr>\n",
       "      <th>4</th>\n",
       "      <td>Viaduto Colorado, 1159 - Rebouças</td>\n",
       "      <td>140216</td>\n",
       "      <td>-25.436607</td>\n",
       "      <td>-49.260179</td>\n",
       "      <td>38</td>\n",
       "      <td></td>\n",
       "      <td>Anti-horário</td>\n",
       "      <td>Novo mobiliário</td>\n",
       "      <td>482</td>\n",
       "      <td>011</td>\n",
       "    </tr>\n",
       "  </tbody>\n",
       "</table>\n",
       "</div>"
      ],
      "text/plain": [
       "                                     NOME     NUM        LAT        LON  SEQ  \\\n",
       "0          Av. Manoel Ribas, 531 - Mercês  110037 -25.422483 -49.284328   39   \n",
       "1  Av. Visc. de Guarapuava, 1692 - Centro  140204 -25.432682 -49.258593   11   \n",
       "2  R. Cap. Souza Franco, 661 - Bigorrilho  180042 -25.432207 -49.292186   34   \n",
       "3              Av. do Batel, 1614 - Batel  180067 -25.442673 -49.288138   21   \n",
       "4       Viaduto Colorado, 1159 - Rebouças  140216 -25.436607 -49.260179   38   \n",
       "\n",
       "  GRUPO       SENTIDO             TIPO  ITINERARY_ID  COD  \n",
       "0             Horário  Novo mobiliário           481  010  \n",
       "1             Horário  Novo mobiliário           481  010  \n",
       "2             Horário  Novo mobiliário           481  010  \n",
       "3        Anti-horário  Novo mobiliário           482  011  \n",
       "4        Anti-horário  Novo mobiliário           482  011  "
      ]
     },
     "execution_count": 57,
     "metadata": {},
     "output_type": "execute_result"
    }
   ],
   "source": [
    "dfPontosUnicos.head()"
   ]
  }
 ],
 "metadata": {
  "kernelspec": {
   "display_name": "Python 3",
   "language": "python",
   "name": "python3"
  },
  "language_info": {
   "codemirror_mode": {
    "name": "ipython",
    "version": 3
   },
   "file_extension": ".py",
   "mimetype": "text/x-python",
   "name": "python",
   "nbconvert_exporter": "python",
   "pygments_lexer": "ipython3",
   "version": "3.8.5"
  }
 },
 "nbformat": 4,
 "nbformat_minor": 4
}
